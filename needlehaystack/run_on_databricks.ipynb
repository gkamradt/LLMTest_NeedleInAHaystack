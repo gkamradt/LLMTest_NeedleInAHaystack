{
 "cells": [
  {
   "cell_type": "markdown",
   "metadata": {
    "application/vnd.databricks.v1+cell": {
     "cellMetadata": {},
     "inputWidgets": {},
     "nuid": "aa49276d-14e0-4ce6-946f-5fbef4ed83f9",
     "showTitle": false,
     "title": ""
    }
   },
   "source": [
    "# Needle In a Haystack pressure test\n",
    "\n",
    "**(Databricks compatible notebook)**"
   ]
  },
  {
   "cell_type": "markdown",
   "metadata": {
    "application/vnd.databricks.v1+cell": {
     "cellMetadata": {},
     "inputWidgets": {},
     "nuid": "424f0e30-ad7b-4865-8edd-4a8305a064e9",
     "showTitle": false,
     "title": ""
    }
   },
   "source": [
    "## Pre-requisites:\n",
    "First clone the repository from your databricks workspace and navigate to this notebook.\n",
    "\n",
    "1. For using `OpenAI` (as `provider` to test and/or `evaluator`): create a [databricks secret](https://docs.databricks.com/en/security/secrets/index.html#secret-management) of your openAI api key _OPTIONAL_\n",
    "2. For testing `databricks` as a `provider` from outside of databricks environment: create a [databricks Personnal Access Token](https://docs.databricks.com/en/dev-tools/auth/pat.html#databricks-personal-access-token-authentication) and store the value as a databricks secret\n",
    "    - Pick the `model` to test from this [list of supported models](https://docs.databricks.com/en/machine-learning/foundation-models/index.html#pay-per-token-foundation-model-apis)\n",
    "    - **Get a Huggingface personnal access token (PAT)** from your profile and store as databricks secret as well\n",
    "    - **If you choose a model different than `databricks-dbrx-instruct` you may need to provide the correct `tokenizer` _(see lines 55-60 in [databricks.py]($./providers/databricks.py))_**\n",
    "3. For using `langsmith` as an `evaluator` _(recommended for multi-needles)_: create langsmith API key and store as databricks secret\n",
    "    - Sign up for [LangSmith](https://smith.langchain.com/)\n",
    "    - Create API key (e.g. `LANGSMITH_API_KEY`) and store as secret as specified in the [setup](https://docs.smith.langchain.com/evaluation/quickstart)\n",
    "    - In the Datasets + Testing tab, use + Dataset to create a new dataset (chat type), call it `multi-needle-eval-*`\n",
    "    - Populate the dataset with a test question (use \"Add Example\" on the dataset page) for example:\n",
    "        - For 5 needles question on SF: [human/input: `What are the 5 best things to do in San Francisco?`  & ai/output: `The 5 best things to do in San Francisco are: 1) Go to Dolores Park. 2) Eat at Tony's Pizza Napoletana. 3) Visit Alcatraz. 4) Hike up Twin Peaks. 5) Bike across the Golden Gate Bridge`] (and call it `multi-needle-sf-5`)\n",
    "        - For 3 needles question on Pizzas [human/input: `What are the secret ingredients needed to build the perfect pizza?` & human/ai: `The secret ingredients needed to build the perfect pizza are figs, prosciutto and goat cheese.`] (and call it `multi-needle-pizza-3`)\n",
    "4. For using `Anthropic` as a `provider` to test: create a databricks secret for your anthropic key"
   ]
  },
  {
   "cell_type": "markdown",
   "metadata": {
    "application/vnd.databricks.v1+cell": {
     "cellMetadata": {},
     "inputWidgets": {},
     "nuid": "879fac6f-d69c-4a7b-86e9-94bea89b4340",
     "showTitle": false,
     "title": ""
    }
   },
   "source": [
    "### Databricks CUJ\n",
    "[OPTIONAL] As part of the CUJ on databricks we recommend creating a catalog, schema and 3 [Unity Catalog (UC) Volumes](https://docs.databricks.com/en/connect/unity-catalog/volumes.html) to upload haystack files and store context/results.\n",
    "\n",
    "5. (`haystacks_volume`) to download or upload the text file(s) you want to use as haystack (e.g. `main.niah_amine_elhelou.haystacks`)\n",
    "6. (`results_volume`) to store raw json outputs from the tests (e.g. `main.niah_amine_elhelou.results_json`) \n",
    "7. (`contexts_volume`) to store raw json inputs with full context and needle(s) (e.g. `main.niah_amine_elhelou.contexts_json`)"
   ]
  },
  {
   "cell_type": "markdown",
   "metadata": {
    "application/vnd.databricks.v1+cell": {
     "cellMetadata": {},
     "inputWidgets": {},
     "nuid": "b301b68d-b29f-42e1-afe2-089765ed14e9",
     "showTitle": false,
     "title": ""
    }
   },
   "source": [
    "## NOTE\n",
    "To run this notebook you should first remove the  **`.`** from the following imports section in both\n",
    "- [llm_needle_haystack_tester.py]($./llm_needle_haystack_tester.py)\n",
    "```\n",
    "from evaluators import Evaluator\n",
    "from providers import ModelProvider\n",
    "```\n",
    "&\n",
    "- [llm_multi_needle_haystack_tester.py]($./llm_multi_needle_haystack_tester.py)\n",
    "\n",
    "```\n",
    "from evaluators import Evaluator\n",
    "from llm_needle_haystack_tester import LLMNeedleHaystackTester\n",
    "from providers import ModelProvider\n",
    "```\n",
    "\n",
    "& \n",
    "\n",
    "- **Attach this notebook to a single-node cluster with any databricks runtime >= 14.3LTS**"
   ]
  },
  {
   "cell_type": "markdown",
   "metadata": {
    "application/vnd.databricks.v1+cell": {
     "cellMetadata": {},
     "inputWidgets": {},
     "nuid": "4c5c12f2-50e1-4999-a1ff-4938bb823ad8",
     "showTitle": false,
     "title": ""
    }
   },
   "source": [
    "## Setup haystack data/volumes and api keys"
   ]
  },
  {
   "cell_type": "code",
   "execution_count": 0,
   "metadata": {
    "application/vnd.databricks.v1+cell": {
     "cellMetadata": {
      "byteLimit": 2048000,
      "rowLimit": 10000
     },
     "inputWidgets": {},
     "nuid": "59b2c75c-1f3b-49a1-b87d-f3ec86436933",
     "showTitle": true,
     "title": "Install requirements"
    },
    "jupyter": {
     "outputs_hidden": true
    }
   },
   "outputs": [],
   "source": [
    "%pip install -r ../requirements.txt\n",
    "\n",
    "\n",
    "dbutils.library.restartPython()"
   ]
  },
  {
   "cell_type": "code",
   "execution_count": 0,
   "metadata": {
    "application/vnd.databricks.v1+cell": {
     "cellMetadata": {
      "byteLimit": 2048000,
      "rowLimit": 10000
     },
     "inputWidgets": {},
     "nuid": "182bc2a4-637e-4966-8c6f-9b54ab7ab848",
     "showTitle": true,
     "title": "Import relevant packages"
    }
   },
   "outputs": [],
   "source": [
    "from dataclasses import dataclass, field\n",
    "from typing import Optional\n",
    "from llm_needle_haystack_tester import LLMNeedleHaystackTester\n",
    "from llm_multi_needle_haystack_tester import LLMMultiNeedleHaystackTester\n",
    "from evaluators import Evaluator, LangSmithEvaluator, OpenAIEvaluator\n",
    "from providers import Anthropic, ModelProvider, OpenAI, Databricks\n",
    "# You can ignore Exceptions & Warnings"
   ]
  },
  {
   "cell_type": "code",
   "execution_count": 0,
   "metadata": {
    "application/vnd.databricks.v1+cell": {
     "cellMetadata": {
      "byteLimit": 2048000,
      "rowLimit": 10000
     },
     "inputWidgets": {},
     "nuid": "7ff974bb-fb80-4b93-a253-494d837cf732",
     "showTitle": false,
     "title": ""
    }
   },
   "outputs": [],
   "source": [
    "# dbutils.widgets.removeAll()"
   ]
  },
  {
   "cell_type": "code",
   "execution_count": 0,
   "metadata": {
    "application/vnd.databricks.v1+cell": {
     "cellMetadata": {
      "byteLimit": 2048000,
      "rowLimit": 10000
     },
     "inputWidgets": {},
     "nuid": "44510005-0d59-4db2-ac11-ca1a71a6f02b",
     "showTitle": true,
     "title": "Create widgets for catalog/schema"
    }
   },
   "outputs": [],
   "source": [
    "import os\n",
    "\n",
    "\n",
    "username = spark.sql('select current_user() as user').collect()[0]['user'].split('@')[0].replace('.', '_')\n",
    "dbutils.widgets.text(\"catalog\", \"main\", \"Catalog to use for storing results/tables\")\n",
    "dbutils.widgets.text(\"schema\", f\"niah_{username}\", \"Schema to use for storing results/tables\")"
   ]
  },
  {
   "cell_type": "code",
   "execution_count": 0,
   "metadata": {
    "application/vnd.databricks.v1+cell": {
     "cellMetadata": {
      "byteLimit": 2048000,
      "rowLimit": 10000
     },
     "inputWidgets": {},
     "nuid": "62d39b11-2490-458f-ac8b-477aa306a8b7",
     "showTitle": true,
     "title": "Set default values for some parameters"
    }
   },
   "outputs": [],
   "source": [
    "catalog = dbutils.widgets.get(\"catalog\")\n",
    "schema = dbutils.widgets.get(\"schema\")\n",
    "\n",
    "haystacks_volume = f\"{catalog}.{schema}.haystacks\" #\".\"\n",
    "results_volume = f\"{catalog}.{schema}.results_json\" #\".\"\n",
    "contexts_volume = f\"{catalog}.{schema}.contexts_json\" #\".\"\n",
    "\n",
    "# OPTIONAL\n",
    "local_workspace_path = \"PaulGrahamEssays\" # If haystack files are available in local/root repo in a folder\n",
    "haystack_dir = os.path.join(\"/Volumes\",haystacks_volume.replace('.','/'), local_workspace_path) # Label as needed\n",
    "context_dir = os.path.join(\"/Volumes\",contexts_volume.replace('.','/'), \"contexts_dbrx_32K\") # Label as needed\n",
    "results_dir = os.path.join(\"/Volumes\",results_volume.replace('.','/'), \"results_dbrx_32K\") # Label as needed"
   ]
  },
  {
   "cell_type": "code",
   "execution_count": 0,
   "metadata": {
    "application/vnd.databricks.v1+cell": {
     "cellMetadata": {
      "byteLimit": 2048000,
      "implicitDf": true,
      "rowLimit": 10000
     },
     "inputWidgets": {},
     "nuid": "8ba0c401-70fc-41c3-9a28-dbbc5197b990",
     "showTitle": true,
     "title": "Create/Initialize catalogs [OPTIONAL]"
    }
   },
   "outputs": [],
   "source": [
    "%sql\n",
    "-- CREATE CATALOG IF NOT EXISTS $catalog; \n",
    "CREATE SCHEMA IF NOT EXISTS $catalog.$schema;"
   ]
  },
  {
   "cell_type": "code",
   "execution_count": 0,
   "metadata": {
    "application/vnd.databricks.v1+cell": {
     "cellMetadata": {
      "byteLimit": 2048000,
      "rowLimit": 10000
     },
     "inputWidgets": {},
     "nuid": "d45cbdb5-6051-4a91-8506-dd5a3c767a16",
     "showTitle": true,
     "title": "Create/Initialize volumes [OPTIONAL]"
    }
   },
   "outputs": [],
   "source": [
    "spark.sql(f\"CREATE VOLUME IF NOT EXISTS {haystacks_volume}\")\n",
    "spark.sql(f\"CREATE VOLUME IF NOT EXISTS {results_volume}\")\n",
    "spark.sql(f\"CREATE VOLUME IF NOT EXISTS {contexts_volume}\")"
   ]
  },
  {
   "cell_type": "code",
   "execution_count": 0,
   "metadata": {
    "application/vnd.databricks.v1+cell": {
     "cellMetadata": {
      "byteLimit": 2048000,
      "rowLimit": 10000
     },
     "inputWidgets": {},
     "nuid": "3bff9ecc-effc-4077-a5af-50d077125027",
     "showTitle": true,
     "title": "Manually upload (or copy from repo) haystack files to UC volume [OPTIONAL]"
    }
   },
   "outputs": [],
   "source": [
    "from shutil import copyfile\n",
    "\n",
    "\n",
    "# Create haystack path/folder in UC volumes first (if not exists)\n",
    "if not os.path.exists(haystack_dir):\n",
    "  os.makedirs(haystack_dir)\n",
    "\n",
    "  # Copy files into it\n",
    "  for f in os.listdir(os.path.join(os.getcwd(), local_workspace_path)):\n",
    "    copyfile(os.path.join(os.getcwd(), local_workspace_path, f), f\"{haystack_dir}/{f}\")"
   ]
  },
  {
   "cell_type": "code",
   "execution_count": 0,
   "metadata": {
    "application/vnd.databricks.v1+cell": {
     "cellMetadata": {
      "byteLimit": 2048000,
      "rowLimit": 10000
     },
     "inputWidgets": {},
     "nuid": "54fa4e22-fc66-49b0-8a5f-a4fe64ead012",
     "showTitle": true,
     "title": "Create widgets for base parameters"
    }
   },
   "outputs": [],
   "source": [
    "dbutils.widgets.dropdown(\"provider\", \"databricks\", [\"databricks\", \"openai\", \"anthropic\"],\"Provider\")\n",
    "dbutils.widgets.text(\"model\",\"databricks-dbrx-instruct\",\"Model to test\")\n",
    "dbutils.widgets.dropdown(\"evaluator\", \"openai\", [\"openai\", \"langsmith\"],\"Evaluator\")\n",
    "dbutils.widgets.text(\"haystack_dir\", haystack_dir, \"Folder containing haystack files\")\n",
    "dbutils.widgets.text(\"context_min_length\", \"1000\", \"Minimum length of context\")\n",
    "dbutils.widgets.text(\"context_max_length\", \"32000\", \"Maximum length of context\")\n",
    "dbutils.widgets.text(\"results_dir\", results_dir, \"Folder to store json results\")\n",
    "dbutils.widgets.dropdown(\"multi_needle\", \"False\", [\"True\", \"False\"],\"Multiple Needles?\")\n",
    "dbutils.widgets.text(\"base_url\", \"\", \"Databricks Endpoint URL\")\n",
    "dbutils.widgets.text(\"contexts_dir\", context_dir, \"Folder to store json contexts\")"
   ]
  },
  {
   "cell_type": "code",
   "execution_count": 0,
   "metadata": {
    "application/vnd.databricks.v1+cell": {
     "cellMetadata": {
      "byteLimit": 2048000,
      "rowLimit": 10000
     },
     "inputWidgets": {},
     "nuid": "842b0334-83cc-4d0a-82d8-3856a3dc56fb",
     "showTitle": true,
     "title": "Get volumes/paths and create if they don't exist"
    }
   },
   "outputs": [],
   "source": [
    "# Create folders inside each volume\n",
    "haystack_dir = dbutils.widgets.get(\"haystack_dir\")\n",
    "contexts_dir = dbutils.widgets.get(\"contexts_dir\")\n",
    "results_dir = dbutils.widgets.get(\"results_dir\")\n",
    "if not os.path.exists(haystack_dir):\n",
    "  os.makedirs(haystack_dir)\n",
    "\n",
    "if not os.path.exists(contexts_dir):\n",
    "  os.makedirs(contexts_dir)\n",
    "\n",
    "if not os.path.exists(results_dir):\n",
    "  os.makedirs(results_dir)"
   ]
  },
  {
   "cell_type": "code",
   "execution_count": 0,
   "metadata": {
    "application/vnd.databricks.v1+cell": {
     "cellMetadata": {
      "byteLimit": 2048000,
      "rowLimit": 10000
     },
     "inputWidgets": {},
     "nuid": "be433ea8-6bb3-4228-b30f-ccfbf73f8bca",
     "showTitle": true,
     "title": "Get API keys from databricks secrets"
    }
   },
   "outputs": [],
   "source": [
    "your_secret_scope = \"niah\" # Change this\n",
    "databricks_pat_secret_key = \"databricks_pat_aeh\" # Change this (if applicable)\n",
    "hugging_face_pat_key = \"hf_token_aeh\" # Change this (if applicable)\n",
    "openai_api_secret_key = \"openai_aeh\" # Change this (if applicable)\n",
    "langsmith_api_secret_key = \"langsmith_api_aeh\" # Change this (if applicable)\n",
    "anthropic_api_secret_key = \"\" # Change this (if applicable)\n",
    "os.environ['LANGCHAIN_API_KEY'] = dbutils.secrets.get(scope=your_secret_scope, key=langsmith_api_secret_key)\n",
    "os.environ['NIAH_EVALUATOR_API_KEY'] = dbutils.secrets.get(scope=your_secret_scope, key=openai_api_secret_key)\n",
    "\n",
    "provider = dbutils.widgets.get(\"provider\")\n",
    "if provider == \"openai\":\n",
    "  os.environ['NIAH_MODEL_API_KEY'] = dbutils.secrets.get(scope=your_secret_scope, key=openai_api_secret_key)\n",
    "elif provider ==\"anthropic\":\n",
    "  os.environ['NIAH_MODEL_API_KEY'] = dbutils.secrets.get(scope=your_secret_scope, key=anthropic_api_secret_key)\n",
    "else:\n",
    "  # Databricks\n",
    "  os.environ['NIAH_MODEL_API_KEY'] = dbutils.secrets.get(scope=your_secret_scope, key=databricks_pat_secret_key)\n",
    "  os.environ['HF_PAT_KEY'] = dbutils.secrets.get(scope=your_secret_scope, key=hugging_face_pat_key)"
   ]
  },
  {
   "cell_type": "markdown",
   "metadata": {
    "application/vnd.databricks.v1+cell": {
     "cellMetadata": {},
     "inputWidgets": {},
     "nuid": "32e135b0-db97-4b40-a1da-c814400b7a62",
     "showTitle": false,
     "title": ""
    }
   },
   "source": [
    "## Define testing parameters"
   ]
  },
  {
   "cell_type": "markdown",
   "metadata": {
    "application/vnd.databricks.v1+cell": {
     "cellMetadata": {},
     "inputWidgets": {},
     "nuid": "cb00e4fa-f58c-4b44-90b5-47265c3d4fa0",
     "showTitle": false,
     "title": ""
    }
   },
   "source": [
    "**TO-FILL**:\n",
    "- Set `base_url` and `model` parameters/widgets (see list of supported `model` and how to get the `base_url` [here](https://docs.databricks.com/en/machine-learning/foundation-models/index.html#use-foundation-model-apis))\n",
    "- Set/Pick retrieval questions (e.g.):\n",
    "    - `What is the best thing to do in San Francisco?` (single needle example) OR \n",
    "    - `What are the secret ingredients needed to build the perfect pizza?` (multi-needle example)\n",
    "- Set/Pick your needle(s) (e.g.):\n",
    "    - `\\nThe best thing to do in San Francisco is eat a sandwich and sit in Dolores Park on a sunny day.\\n` OR\n",
    "    - `\" Figs are one of the secret ingredients needed to build the perfect pizza. \", \n",
    "        \" Prosciutto is one of the secret ingredients needed to build the perfect pizza. \", \n",
    "        \" Goat cheese is one of the secret ingredients needed to build the perfect pizza. \"`\n"
   ]
  },
  {
   "cell_type": "code",
   "execution_count": 0,
   "metadata": {
    "application/vnd.databricks.v1+cell": {
     "cellMetadata": {
      "byteLimit": 2048000,
      "rowLimit": 10000
     },
     "inputWidgets": {},
     "nuid": "c83fa8ad-422c-41eb-9a5a-9c5fb59a2ba0",
     "showTitle": false,
     "title": ""
    }
   },
   "outputs": [],
   "source": [
    "from openai import OpenAI\n",
    "\n",
    "client = OpenAI(\n",
    "  api_key=dbutils.secrets.get(scope=your_secret_scope, key=openai_api_secret_key)\n",
    ")\n",
    "\n",
    "completion = client.chat.completions.create(\n",
    "  messages=[{\"role\":\"user\", \"content\": \"What is the capital of France?\"}],\n",
    "  model=\"gpt-3.5-turbo\"\n",
    ")"
   ]
  },
  {
   "cell_type": "code",
   "execution_count": 0,
   "metadata": {
    "application/vnd.databricks.v1+cell": {
     "cellMetadata": {
      "byteLimit": 2048000,
      "rowLimit": 10000
     },
     "inputWidgets": {},
     "nuid": "c4e44c2d-2e56-4e17-bb76-15ba4c92ef90",
     "showTitle": false,
     "title": ""
    }
   },
   "outputs": [],
   "source": [
    "completion.choices[0]"
   ]
  },
  {
   "cell_type": "code",
   "execution_count": 0,
   "metadata": {
    "application/vnd.databricks.v1+cell": {
     "cellMetadata": {
      "byteLimit": 2048000,
      "rowLimit": 10000
     },
     "collapsed": true,
     "inputWidgets": {},
     "nuid": "7970f998-2d39-4204-a33b-2983879bcb66",
     "showTitle": true,
     "title": "Helper class to define default arguments/parameters"
    }
   },
   "outputs": [],
   "source": [
    "@dataclass\n",
    "class CommandArgs():\n",
    "    provider: str = provider\n",
    "    evaluator_label: str = dbutils.widgets.get(\"evaluator\")\n",
    "    model_name: str = dbutils.widgets.get(\"model\")\n",
    "    evaluator_model_name: Optional[str] = \"gpt-3.5-turbo\"\n",
    "    needle: Optional[str] = \"\\nThe best thing to do in San Francisco is eat a sandwich and sit in Dolores Park on a sunny day.\\n\"\n",
    "    haystack_dir: Optional[str] = haystack_dir\n",
    "    retrieval_question: Optional[str] = \"What is the best thing to do in San Francisco?\"\n",
    "    results_version: Optional[int] = 1\n",
    "    context_lengths_min: Optional[int] = int(dbutils.widgets.get(\"context_min_length\"))\n",
    "    context_lengths_max: Optional[int] = int(dbutils.widgets.get(\"context_max_length\"))\n",
    "    context_lengths_num_intervals: Optional[int] = 16\n",
    "    context_lengths: Optional[list[int]] = None\n",
    "    document_depth_percent_min: Optional[int] = 0\n",
    "    document_depth_percent_max: Optional[int] = 100\n",
    "    document_depth_percent_intervals: Optional[int] = 10\n",
    "    document_depth_percents: Optional[list[int]] = None\n",
    "    document_depth_percent_interval_type: Optional[str] = \"linear\"\n",
    "    num_concurrent_requests: Optional[int] = 1\n",
    "    save_results: Optional[bool] = True\n",
    "    results_dir: Optional[str] = results_dir\n",
    "    save_contexts: Optional[bool] = True\n",
    "    contexts_dir: Optional[str] = contexts_dir\n",
    "    final_context_length_buffer: Optional[int] = 200\n",
    "    seconds_to_sleep_between_completions: Optional[float] = None\n",
    "    print_ongoing_status: Optional[bool] = True\n",
    "    # LangSmith parameters\n",
    "    eval_set: Optional[str] = \"multi-needle-eval-pizza-3\"\n",
    "    # Multi-needle parameters\n",
    "    multi_needle: Optional[bool] = bool(dbutils.widgets.get(\"multi_needle\")==\"True\")\n",
    "    needles: list[str] = field(default_factory=lambda: [\n",
    "        \" Figs are one of the secret ingredients needed to build the perfect pizza. \", \n",
    "        \" Prosciutto is one of the secret ingredients needed to build the perfect pizza. \", \n",
    "        \" Goat cheese is one of the secret ingredients needed to build the perfect pizza. \"\n",
    "    ])"
   ]
  },
  {
   "cell_type": "code",
   "execution_count": 0,
   "metadata": {
    "application/vnd.databricks.v1+cell": {
     "cellMetadata": {
      "byteLimit": 2048000,
      "rowLimit": 10000
     },
     "collapsed": true,
     "inputWidgets": {},
     "nuid": "7067cf46-1e8f-454c-b49b-fb3652289724",
     "showTitle": true,
     "title": "Helper function to instantiate correct provider and evaluator objects"
    }
   },
   "outputs": [],
   "source": [
    "def get_model_to_test(args: dict) -> ModelProvider:\n",
    "    \"\"\"\n",
    "    Determines and returns the appropriate model provider based on the provided command dictionnary.\n",
    "    \n",
    "    Args:\n",
    "        args (dict): The command line arguments parsed into a CommandArgs dataclass instance.\n",
    "        \n",
    "    Returns:\n",
    "        ModelProvider: An instance of the specified model provider class.\n",
    "    \n",
    "    Raises:\n",
    "        ValueError: If the specified provider is not supported.\n",
    "    \"\"\"\n",
    "    match args.provider.lower():\n",
    "        case \"openai\":\n",
    "            return OpenAI(model_name=args.model_name)\n",
    "        case \"anthropic\":\n",
    "            return Anthropic(model_name=args.model_name)\n",
    "        case \"databricks\":\n",
    "            return Databricks(model_name=args.model_name, base_url=dbutils.widgets.get(\"base_url\"))\n",
    "        case _:\n",
    "            raise ValueError(f\"Invalid provider: {args.provider}\")\n",
    "\n",
    "def get_evaluator(args: dict) -> Evaluator:\n",
    "    \"\"\"\n",
    "    Selects and returns the appropriate evaluator based on the provided command arguments.\n",
    "    \n",
    "    Args:\n",
    "        args (CommandArgs): The command line arguments parsed into a CommandArgs dataclass instance.\n",
    "        \n",
    "    Returns:\n",
    "        Evaluator: An instance of the specified evaluator class.\n",
    "        \n",
    "    Raises:\n",
    "        ValueError: If the specified evaluator is not supported.\n",
    "    \"\"\"\n",
    "    match args.evaluator_label.lower():\n",
    "        case \"openai\":\n",
    "            return OpenAIEvaluator(model_name=args.evaluator_model_name,\n",
    "                                   question_asked=args.retrieval_question,\n",
    "                                   true_answer=args.needle)\n",
    "        case \"langsmith\":\n",
    "            return LangSmithEvaluator()\n",
    "        case _:\n",
    "            raise ValueError(f\"Invalid evaluator: {args.evaluator}\")"
   ]
  },
  {
   "cell_type": "code",
   "execution_count": 0,
   "metadata": {
    "application/vnd.databricks.v1+cell": {
     "cellMetadata": {
      "byteLimit": 2048000,
      "rowLimit": 10000
     },
     "collapsed": true,
     "inputWidgets": {},
     "nuid": "60a8888b-c9d8-4379-ab7f-dbf87b75e6a3",
     "showTitle": true,
     "title": "Model Testing Framework Selection"
    }
   },
   "outputs": [],
   "source": [
    "args = CommandArgs\n",
    "args.model_to_test = get_model_to_test(args)\n",
    "args.evaluator = get_evaluator(args)\n",
    "\n",
    "if args.multi_needle == True:\n",
    "    print(\"Testing multi-needle\")\n",
    "    tester = LLMMultiNeedleHaystackTester(**args.__dict__)\n",
    "    \n",
    "else: \n",
    "    print(\"Testing single-needle\")\n",
    "    tester = LLMNeedleHaystackTester(**args.__dict__)"
   ]
  },
  {
   "cell_type": "markdown",
   "metadata": {
    "application/vnd.databricks.v1+cell": {
     "cellMetadata": {},
     "inputWidgets": {},
     "nuid": "742ef6ce-7b94-4f94-976a-a6a73fd04d21",
     "showTitle": false,
     "title": ""
    }
   },
   "source": [
    "## Run test (asynchrounously)"
   ]
  },
  {
   "cell_type": "code",
   "execution_count": 0,
   "metadata": {
    "application/vnd.databricks.v1+cell": {
     "cellMetadata": {
      "byteLimit": 2048000,
      "rowLimit": 10000
     },
     "inputWidgets": {},
     "nuid": "06a9910a-841c-4ec2-93e8-568aeea732da",
     "showTitle": false,
     "title": ""
    }
   },
   "outputs": [],
   "source": [
    "await tester.run_test()"
   ]
  },
  {
   "cell_type": "markdown",
   "metadata": {
    "application/vnd.databricks.v1+cell": {
     "cellMetadata": {},
     "inputWidgets": {},
     "nuid": "079a8799-e417-4f61-9426-cec8f4de75a4",
     "showTitle": false,
     "title": ""
    }
   },
   "source": [
    "## Visualize"
   ]
  },
  {
   "cell_type": "code",
   "execution_count": 0,
   "metadata": {
    "application/vnd.databricks.v1+cell": {
     "cellMetadata": {
      "byteLimit": 2048000,
      "implicitDf": true,
      "rowLimit": 10000
     },
     "inputWidgets": {},
     "nuid": "affa5288-f16c-4e5e-999c-850cd78182ab",
     "showTitle": true,
     "title": "Create temporary view"
    }
   },
   "outputs": [],
   "source": [
    "%sql\n",
    "CREATE OR REPLACE VIEW $catalog.$schema.results_$provider AS(\n",
    "  SELECT * FROM json.`$results_dir`\n",
    "  ORDER BY context_length, depth_percent ASC\n",
    ")"
   ]
  },
  {
   "cell_type": "code",
   "execution_count": 0,
   "metadata": {
    "application/vnd.databricks.v1+cell": {
     "cellMetadata": {
      "byteLimit": 2048000,
      "implicitDf": true,
      "rowLimit": 10000
     },
     "inputWidgets": {},
     "nuid": "488a7b31-a0ff-4f2f-a142-6600fb493ef6",
     "showTitle": true,
     "title": "Display data and create visualization interactively"
    }
   },
   "outputs": [
    {
     "output_type": "display_data",
     "data": {
      "text/plain": [
       "Databricks visualization. Run in Databricks to view."
      ]
     },
     "metadata": {
      "application/vnd.databricks.v1.subcommand+json": {
       "baseErrorDetails": null,
       "bindings": {},
       "collapsed": false,
       "command": "%sql WITH q AS (SELECT * FROM main.niah_amine_elhelou.results_dbrx_pge_32K) SELECT `depth_percent`,`context_length`,AVG(`score`) `score_alias` FROM q GROUP BY `context_length`,`depth_percent` ORDER BY `depth_percent` ASC,`context_length` ASC",
       "commandTitle": "Scores",
       "commandType": "auto",
       "commandVersion": 0,
       "commentThread": [],
       "commentsVisible": false,
       "contentSha256Hex": null,
       "customPlotOptions": {
        "redashChart": [
         {
          "key": "type",
          "value": "PIVOT_TABLE"
         },
         {
          "key": "options",
          "value": {
           "cell": {
            "field": "score",
            "transform": {
             "fn": "avg"
            }
           },
           "cellNumberFormat": "0.0",
           "colorCellsByValue": true,
           "columns": [
            {
             "field": "context_length",
             "sort": "ascending"
            }
           ],
           "rows": [
            {
             "field": "depth_percent",
             "sort": "ascending"
            }
           ]
          }
         }
        ]
       },
       "datasetPreviewNameToCmdIdMap": {},
       "diffDeletes": [],
       "diffInserts": [],
       "displayType": "redashChart",
       "error": null,
       "errorDetails": null,
       "errorSummary": null,
       "errorTraceType": null,
       "finishTime": 0,
       "globalVars": {},
       "guid": "",
       "height": "auto",
       "hideCommandCode": false,
       "hideCommandResult": false,
       "iPythonMetadata": null,
       "inputWidgets": {},
       "isLockedInExamMode": false,
       "latestUser": "a user",
       "latestUserId": null,
       "listResultMetadata": null,
       "metadata": {},
       "nuid": "836dda09-0380-4377-894c-18a63099a513",
       "origId": 0,
       "parentHierarchy": [],
       "pivotAggregation": null,
       "pivotColumns": null,
       "position": 17.0,
       "resultDbfsErrorMessage": null,
       "resultDbfsStatus": "INLINED_IN_TREE",
       "results": null,
       "showCommandTitle": false,
       "startTime": 0,
       "state": "input",
       "streamStates": {},
       "subcommandOptions": {
        "queryPlan": {
         "groups": [
          {
           "column": "depth_percent",
           "type": "column"
          },
          {
           "column": "context_length",
           "type": "column"
          }
         ],
         "order_by": [
          {
           "direction": "asc",
           "expression": {
            "identifier": "depth_percent",
            "kind": "identifier"
           }
          },
          {
           "direction": "asc",
           "expression": {
            "identifier": "context_length",
            "kind": "identifier"
           }
          }
         ],
         "selects": [
          {
           "column": "depth_percent",
           "type": "column"
          },
          {
           "column": "context_length",
           "type": "column"
          },
          {
           "alias": "score_alias",
           "args": [
            {
             "column": "score",
             "type": "column"
            }
           ],
           "function": "AVG",
           "type": "function"
          }
         ]
        }
       },
       "submitTime": 0,
       "subtype": "tableResultSubCmd.visualization",
       "tableResultIndex": 0,
       "useConsistentColors": false,
       "version": "CommandV1",
       "width": "auto",
       "workflows": null,
       "xColumns": null,
       "yColumns": null
      }
     },
     "output_type": "display_data"
    },
    {
     "output_type": "display_data",
     "data": {
      "text/plain": [
       "Databricks visualization. Run in Databricks to view."
      ]
     },
     "metadata": {
      "application/vnd.databricks.v1.subcommand+json": {
       "baseErrorDetails": null,
       "bindings": {},
       "collapsed": false,
       "command": "%sql WITH q AS (SELECT * FROM main.niah_amine_elhelou.results_dbrx_pge_32K) SELECT `context_length`,`depth_percent`,AVG(`score`) `column_f0ad8b9714` FROM q GROUP BY `context_length`,`depth_percent`",
       "commandTitle": "Score - Heatmap",
       "commandType": "auto",
       "commandVersion": 0,
       "commentThread": [],
       "commentsVisible": false,
       "contentSha256Hex": null,
       "customPlotOptions": {
        "redashChart": [
         {
          "key": "type",
          "value": "CHART"
         },
         {
          "key": "options",
          "value": {
           "alignYAxesAtZero": true,
           "coefficient": 1,
           "colorScheme": "Blackbody",
           "columnConfigurationMap": {
            "x": {
             "column": "context_length",
             "id": "column_f0ad8b9716"
            },
            "y": [
             {
              "column": "depth_percent",
              "id": "column_f0ad8b9717"
             }
            ],
            "zVal": {
             "column": "score",
             "id": "column_f0ad8b9714",
             "transform": "AVG"
            }
           },
           "dateTimeFormat": "DD/MM/YYYY HH:mm",
           "direction": {
            "type": "counterclockwise"
           },
           "error_y": {
            "type": "data",
            "visible": true
           },
           "globalSeriesType": "heatmap",
           "isAggregationOn": true,
           "legend": {
            "title": "Score (GPT3.5)",
            "traceorder": "normal"
           },
           "missingValuesAsZero": true,
           "numberFormat": "0,0.[00000]",
           "percentFormat": "0[.]00%",
           "series": {
            "error_y": {
             "type": "data",
             "visible": true
            },
            "stacking": null
           },
           "seriesOptions": {
            "column_f0ad8b9712": {
             "type": "heatmap",
             "yAxis": 0
            },
            "column_f0ad8b9717": {
             "type": "heatmap",
             "yAxis": 0
            }
           },
           "showDataLabels": false,
           "sizemode": "diameter",
           "sortX": true,
           "sortY": true,
           "swappedAxes": false,
           "textFormat": "",
           "useAggregationsUi": true,
           "valuesOptions": {},
           "version": 2,
           "xAxis": {
            "labels": {
             "enabled": true
            },
            "title": {
             "text": "Token Limit"
            },
            "type": "-"
           },
           "yAxis": [
            {
             "title": {
              "text": "Depth Percent"
             },
             "type": "-"
            },
            {
             "opposite": true,
             "type": "-"
            }
           ]
          }
         }
        ]
       },
       "datasetPreviewNameToCmdIdMap": {},
       "diffDeletes": [],
       "diffInserts": [],
       "displayType": "redashChart",
       "error": null,
       "errorDetails": null,
       "errorSummary": null,
       "errorTraceType": null,
       "finishTime": 0,
       "globalVars": {},
       "guid": "",
       "height": "auto",
       "hideCommandCode": false,
       "hideCommandResult": false,
       "iPythonMetadata": null,
       "inputWidgets": {},
       "isLockedInExamMode": false,
       "latestUser": "a user",
       "latestUserId": null,
       "listResultMetadata": null,
       "metadata": {},
       "nuid": "e5ed20bf-6d0f-48b5-8192-03d325723b85",
       "origId": 0,
       "parentHierarchy": [],
       "pivotAggregation": null,
       "pivotColumns": null,
       "position": 18.0,
       "resultDbfsErrorMessage": null,
       "resultDbfsStatus": "INLINED_IN_TREE",
       "results": null,
       "showCommandTitle": false,
       "startTime": 0,
       "state": "input",
       "streamStates": {},
       "subcommandOptions": {
        "queryPlan": {
         "groups": [
          {
           "column": "context_length",
           "type": "column"
          },
          {
           "column": "depth_percent",
           "type": "column"
          }
         ],
         "selects": [
          {
           "column": "context_length",
           "type": "column"
          },
          {
           "column": "depth_percent",
           "type": "column"
          },
          {
           "alias": "column_f0ad8b9714",
           "args": [
            {
             "column": "score",
             "type": "column"
            }
           ],
           "function": "AVG",
           "type": "function"
          }
         ]
        }
       },
       "submitTime": 0,
       "subtype": "tableResultSubCmd.visualization",
       "tableResultIndex": 0,
       "useConsistentColors": false,
       "version": "CommandV1",
       "width": "auto",
       "workflows": null,
       "xColumns": null,
       "yColumns": null
      }
     },
     "output_type": "display_data"
    },
    {
     "output_type": "display_data",
     "data": {
      "text/plain": [
       "Databricks visualization. Run in Databricks to view."
      ]
     },
     "metadata": {
      "application/vnd.databricks.v1.subcommand+json": {
       "baseErrorDetails": null,
       "bindings": {},
       "collapsed": false,
       "command": "%sql WITH q AS (SELECT * FROM main.niah_amine_elhelou.results_dbrx_pge_32K) SELECT `depth_percent`,`context_length`,AVG(`test_duration_seconds`) `test_duration_seconds_alias` FROM q GROUP BY `context_length`,`depth_percent` ORDER BY `depth_percent` ASC,`context_length` ASC",
       "commandTitle": "Time",
       "commandType": "auto",
       "commandVersion": 0,
       "commentThread": [],
       "commentsVisible": false,
       "contentSha256Hex": null,
       "customPlotOptions": {
        "redashChart": [
         {
          "key": "type",
          "value": "PIVOT_TABLE"
         },
         {
          "key": "options",
          "value": {
           "cell": {
            "field": "test_duration_seconds",
            "transform": {
             "fn": "avg"
            }
           },
           "colorCellsByValue": true,
           "columns": [
            {
             "field": "context_length",
             "sort": "ascending"
            }
           ],
           "rows": [
            {
             "field": "depth_percent",
             "sort": "ascending"
            }
           ]
          }
         }
        ]
       },
       "datasetPreviewNameToCmdIdMap": {},
       "diffDeletes": [],
       "diffInserts": [],
       "displayType": "redashChart",
       "error": null,
       "errorDetails": null,
       "errorSummary": null,
       "errorTraceType": null,
       "finishTime": 0,
       "globalVars": {},
       "guid": "",
       "height": "auto",
       "hideCommandCode": false,
       "hideCommandResult": false,
       "iPythonMetadata": null,
       "inputWidgets": {},
       "isLockedInExamMode": false,
       "latestUser": "a user",
       "latestUserId": null,
       "listResultMetadata": null,
       "metadata": {},
       "nuid": "87c5ddd7-47ef-4b2d-9a3e-4042dbe623a4",
       "origId": 0,
       "parentHierarchy": [],
       "pivotAggregation": null,
       "pivotColumns": null,
       "position": 19.0,
       "resultDbfsErrorMessage": null,
       "resultDbfsStatus": "INLINED_IN_TREE",
       "results": null,
       "showCommandTitle": false,
       "startTime": 0,
       "state": "input",
       "streamStates": {},
       "subcommandOptions": {
        "queryPlan": {
         "groups": [
          {
           "column": "depth_percent",
           "type": "column"
          },
          {
           "column": "context_length",
           "type": "column"
          }
         ],
         "order_by": [
          {
           "direction": "asc",
           "expression": {
            "identifier": "depth_percent",
            "kind": "identifier"
           }
          },
          {
           "direction": "asc",
           "expression": {
            "identifier": "context_length",
            "kind": "identifier"
           }
          }
         ],
         "selects": [
          {
           "column": "depth_percent",
           "type": "column"
          },
          {
           "column": "context_length",
           "type": "column"
          },
          {
           "alias": "test_duration_seconds_alias",
           "args": [
            {
             "column": "test_duration_seconds",
             "type": "column"
            }
           ],
           "function": "AVG",
           "type": "function"
          }
         ]
        }
       },
       "submitTime": 0,
       "subtype": "tableResultSubCmd.visualization",
       "tableResultIndex": 0,
       "useConsistentColors": false,
       "version": "CommandV1",
       "width": "auto",
       "workflows": null,
       "xColumns": null,
       "yColumns": null
      }
     },
     "output_type": "display_data"
    },
    {
     "output_type": "display_data",
     "data": {
      "text/plain": [
       "Databricks visualization. Run in Databricks to view."
      ]
     },
     "metadata": {
      "application/vnd.databricks.v1.subcommand+json": {
       "baseErrorDetails": null,
       "bindings": {},
       "collapsed": false,
       "command": "%sql WITH q AS (SELECT * FROM main.niah_amine_elhelou.results_dbrx_pge_32K) SELECT `context_length`,`depth_percent`,AVG(`test_duration_seconds`) `column_35f18a694` FROM q GROUP BY `context_length`,`depth_percent`",
       "commandTitle": "Time - Heatmap",
       "commandType": "auto",
       "commandVersion": 0,
       "commentThread": [],
       "commentsVisible": false,
       "contentSha256Hex": null,
       "customPlotOptions": {
        "redashChart": [
         {
          "key": "type",
          "value": "CHART"
         },
         {
          "key": "options",
          "value": {
           "alignYAxesAtZero": true,
           "coefficient": 1,
           "colorScheme": "Bluered",
           "columnConfigurationMap": {
            "x": {
             "column": "context_length",
             "id": "column_35f18a697"
            },
            "y": [
             {
              "column": "depth_percent",
              "id": "column_35f18a698"
             }
            ],
            "zVal": {
             "column": "test_duration_seconds",
             "id": "column_35f18a694",
             "transform": "AVG"
            }
           },
           "dateTimeFormat": "DD/MM/YYYY HH:mm",
           "direction": {
            "type": "counterclockwise"
           },
           "error_y": {
            "type": "data",
            "visible": true
           },
           "globalSeriesType": "heatmap",
           "isAggregationOn": true,
           "legend": {
            "title": "Time (avg)",
            "traceorder": "normal"
           },
           "missingValuesAsZero": true,
           "numberFormat": "0,0.[00000]",
           "percentFormat": "0[.]00%",
           "series": {
            "error_y": {
             "type": "data",
             "visible": true
            },
            "stacking": null
           },
           "seriesOptions": {
            "column_35f18a692": {
             "type": "heatmap",
             "yAxis": 0
            },
            "column_35f18a698": {
             "type": "heatmap",
             "yAxis": 0
            }
           },
           "showDataLabels": false,
           "sizemode": "diameter",
           "sortX": true,
           "sortY": true,
           "swappedAxes": false,
           "textFormat": "",
           "useAggregationsUi": true,
           "valuesOptions": {},
           "version": 2,
           "xAxis": {
            "labels": {
             "enabled": true
            },
            "title": {
             "text": "Token Limit"
            },
            "type": "-"
           },
           "yAxis": [
            {
             "title": {
              "text": "Depth Percent"
             },
             "type": "-"
            },
            {
             "opposite": true,
             "type": "-"
            }
           ]
          }
         }
        ]
       },
       "datasetPreviewNameToCmdIdMap": {},
       "diffDeletes": [],
       "diffInserts": [],
       "displayType": "redashChart",
       "error": null,
       "errorDetails": null,
       "errorSummary": null,
       "errorTraceType": null,
       "finishTime": 0,
       "globalVars": {},
       "guid": "",
       "height": "auto",
       "hideCommandCode": false,
       "hideCommandResult": false,
       "iPythonMetadata": null,
       "inputWidgets": {},
       "isLockedInExamMode": false,
       "latestUser": "a user",
       "latestUserId": null,
       "listResultMetadata": null,
       "metadata": {},
       "nuid": "8351336a-93b0-47e6-afc9-b09b22b779f7",
       "origId": 0,
       "parentHierarchy": [],
       "pivotAggregation": null,
       "pivotColumns": null,
       "position": 20.0,
       "resultDbfsErrorMessage": null,
       "resultDbfsStatus": "INLINED_IN_TREE",
       "results": null,
       "showCommandTitle": false,
       "startTime": 0,
       "state": "input",
       "streamStates": {},
       "subcommandOptions": {
        "queryPlan": {
         "groups": [
          {
           "column": "context_length",
           "type": "column"
          },
          {
           "column": "depth_percent",
           "type": "column"
          }
         ],
         "selects": [
          {
           "column": "context_length",
           "type": "column"
          },
          {
           "column": "depth_percent",
           "type": "column"
          },
          {
           "alias": "column_35f18a694",
           "args": [
            {
             "column": "test_duration_seconds",
             "type": "column"
            }
           ],
           "function": "AVG",
           "type": "function"
          }
         ]
        }
       },
       "submitTime": 0,
       "subtype": "tableResultSubCmd.visualization",
       "tableResultIndex": 0,
       "useConsistentColors": false,
       "version": "CommandV1",
       "width": "auto",
       "workflows": null,
       "xColumns": null,
       "yColumns": null
      }
     },
     "output_type": "display_data"
    }
   ],
   "source": [
    "%sql SELECT * FROM $catalog.$schema.results_$provider"
   ]
  },
  {
   "cell_type": "markdown",
   "metadata": {
    "application/vnd.databricks.v1+cell": {
     "cellMetadata": {},
     "inputWidgets": {},
     "nuid": "d642eb3d-ae57-4e06-913d-67252c5e7dc3",
     "showTitle": false,
     "title": ""
    }
   },
   "source": [
    "Create new [visualization](https://docs.databricks.com/en/visualizations/index.html#create-a-new-visualization) by hitting the `+` tab and in order to reproduce the heatmap:\n",
    "1. Choose `Heatmap` as plot style\n",
    "2. X: `context_length`\n",
    "3. Y: `depth_percent`\n",
    "4. Color column: `score` and choose `Average` as aggregate method"
   ]
  },
  {
   "cell_type": "markdown",
   "metadata": {
    "application/vnd.databricks.v1+cell": {
     "cellMetadata": {},
     "inputWidgets": {},
     "nuid": "52ca7719-3c3d-42d6-9945-112531c5f182",
     "showTitle": false,
     "title": ""
    }
   },
   "source": [
    "## Introspect bad response"
   ]
  },
  {
   "cell_type": "code",
   "execution_count": 0,
   "metadata": {
    "application/vnd.databricks.v1+cell": {
     "cellMetadata": {
      "byteLimit": 2048000,
      "implicitDf": true,
      "rowLimit": 10000
     },
     "inputWidgets": {},
     "nuid": "4bbc4374-ef9c-4873-a051-9a9f78a54ec1",
     "showTitle": true,
     "title": "Low Score Query Extract"
    }
   },
   "outputs": [],
   "source": [
    "%sql\n",
    "-- For single needle test using San Francisco\n",
    "SELECT context_length as tokens, depth_percent as needle_depth, score, model_response as completion \n",
    "FROM $catalog.$schema.results_$provider\n",
    "WHERE score <10\n",
    "AND model_response LIKE '%best thing to do in San Francisco is to eat a sandwich and sit in Dolores Park%'"
   ]
  },
  {
   "cell_type": "code",
   "execution_count": 0,
   "metadata": {
    "application/vnd.databricks.v1+cell": {
     "cellMetadata": {},
     "inputWidgets": {},
     "nuid": "503f5680-d47f-41b7-b6f7-9a99c0b0baed",
     "showTitle": false,
     "title": ""
    }
   },
   "outputs": [],
   "source": []
  }
 ],
 "metadata": {
  "application/vnd.databricks.v1+notebook": {
   "dashboards": [],
   "environmentMetadata": null,
   "language": "python",
   "notebookMetadata": {
    "mostRecentlyExecutedCommandWithImplicitDF": {
     "commandId": 4466427002614457,
     "dataframes": [
      "_sqldf"
     ]
    },
    "pythonIndentUnit": 2
   },
   "notebookName": "run_on_databricks",
   "widgets": {
    "base_url": {
     "currentValue": "https://e2-dogfood.staging.cloud.databricks.com/serving-endpoints",
     "nuid": "6949489b-6481-4592-9ed7-8ab7f68261fd",
     "typedWidgetInfo": {
      "autoCreated": false,
      "defaultValue": "",
      "label": "Databricks Endpoint URL",
      "name": "base_url",
      "options": {
       "widgetDisplayType": "Text",
       "validationRegex": null
      },
      "parameterDataType": "String"
     },
     "widgetInfo": {
      "widgetType": "text",
      "defaultValue": "",
      "label": "Databricks Endpoint URL",
      "name": "base_url",
      "options": {
       "widgetType": "text",
       "autoCreated": null,
       "validationRegex": null
      }
     }
    },
    "catalog": {
     "currentValue": "main",
     "nuid": "f6e97d90-b167-45f5-a1a1-b802ebdc241b",
     "typedWidgetInfo": {
      "autoCreated": false,
      "defaultValue": "main",
      "label": "Catalog to use for storing results/tables",
      "name": "catalog",
      "options": {
       "widgetDisplayType": "Text",
       "validationRegex": null
      },
      "parameterDataType": "String"
     },
     "widgetInfo": {
      "widgetType": "text",
      "defaultValue": "main",
      "label": "Catalog to use for storing results/tables",
      "name": "catalog",
      "options": {
       "widgetType": "text",
       "autoCreated": null,
       "validationRegex": null
      }
     }
    },
    "context_max_length": {
     "currentValue": "32000",
     "nuid": "0d0b44aa-e44d-4aff-a773-f38f5d7f6b6b",
     "typedWidgetInfo": {
      "autoCreated": false,
      "defaultValue": "32000",
      "label": "Maximum length of context",
      "name": "context_max_length",
      "options": {
       "widgetDisplayType": "Text",
       "validationRegex": null
      },
      "parameterDataType": "String"
     },
     "widgetInfo": {
      "widgetType": "text",
      "defaultValue": "32000",
      "label": "Maximum length of context",
      "name": "context_max_length",
      "options": {
       "widgetType": "text",
       "autoCreated": null,
       "validationRegex": null
      }
     }
    },
    "context_min_length": {
     "currentValue": "4000",
     "nuid": "1709c766-67c2-4ea9-9f6b-f05881a05d47",
     "typedWidgetInfo": {
      "autoCreated": false,
      "defaultValue": "1000",
      "label": "Minimum length of context",
      "name": "context_min_length",
      "options": {
       "widgetDisplayType": "Text",
       "validationRegex": null
      },
      "parameterDataType": "String"
     },
     "widgetInfo": {
      "widgetType": "text",
      "defaultValue": "1000",
      "label": "Minimum length of context",
      "name": "context_min_length",
      "options": {
       "widgetType": "text",
       "autoCreated": null,
       "validationRegex": null
      }
     }
    },
    "contexts_dir": {
     "currentValue": "/Volumes/main/niah_amine_elhelou/contexts_json/contexts_dbrx_32K",
     "nuid": "c3b9836c-ab68-4d1d-999d-d5dbbcc961eb",
     "typedWidgetInfo": {
      "autoCreated": false,
      "defaultValue": "/Volumes/main/niah_amine_elhelou/contexts_json/contexts_dbrx_32K",
      "label": "Folder to store json contexts",
      "name": "contexts_dir",
      "options": {
       "widgetDisplayType": "Text",
       "validationRegex": null
      },
      "parameterDataType": "String"
     },
     "widgetInfo": {
      "widgetType": "text",
      "defaultValue": "/Volumes/main/niah_amine_elhelou/contexts_json/contexts_dbrx_32K",
      "label": "Folder to store json contexts",
      "name": "contexts_dir",
      "options": {
       "widgetType": "text",
       "autoCreated": null,
       "validationRegex": null
      }
     }
    },
    "evaluator": {
     "currentValue": "openai",
     "nuid": "b2c17566-f61b-4f53-884b-417e8505f498",
     "typedWidgetInfo": {
      "autoCreated": false,
      "defaultValue": "openai",
      "label": "Evaluator",
      "name": "evaluator",
      "options": {
       "widgetDisplayType": "Dropdown",
       "choices": [
        "openai",
        "langsmith"
       ],
       "fixedDomain": true,
       "multiselect": false
      },
      "parameterDataType": "String"
     },
     "widgetInfo": {
      "widgetType": "dropdown",
      "defaultValue": "openai",
      "label": "Evaluator",
      "name": "evaluator",
      "options": {
       "widgetType": "dropdown",
       "autoCreated": null,
       "choices": [
        "openai",
        "langsmith"
       ]
      }
     }
    },
    "haystack_dir": {
     "currentValue": "/Volumes/main/niah_amine_elhelou/haystacks/PaulGrahamEssays",
     "nuid": "907ba368-229d-42c1-839a-efc64511d708",
     "typedWidgetInfo": {
      "autoCreated": false,
      "defaultValue": "/Volumes/main/niah_amine_elhelou/haystacks/PaulGrahamEssays",
      "label": "Folder containing haystack files",
      "name": "haystack_dir",
      "options": {
       "widgetDisplayType": "Text",
       "validationRegex": null
      },
      "parameterDataType": "String"
     },
     "widgetInfo": {
      "widgetType": "text",
      "defaultValue": "/Volumes/main/niah_amine_elhelou/haystacks/PaulGrahamEssays",
      "label": "Folder containing haystack files",
      "name": "haystack_dir",
      "options": {
       "widgetType": "text",
       "autoCreated": null,
       "validationRegex": null
      }
     }
    },
    "model": {
     "currentValue": "databricks-dbrx-instruct",
     "nuid": "c49ed32a-3915-4332-9f26-269f003f5bd5",
     "typedWidgetInfo": {
      "autoCreated": false,
      "defaultValue": "databricks-dbrx-instruct",
      "label": "Model to test",
      "name": "model",
      "options": {
       "widgetDisplayType": "Text",
       "validationRegex": null
      },
      "parameterDataType": "String"
     },
     "widgetInfo": {
      "widgetType": "text",
      "defaultValue": "databricks-dbrx-instruct",
      "label": "Model to test",
      "name": "model",
      "options": {
       "widgetType": "text",
       "autoCreated": null,
       "validationRegex": null
      }
     }
    },
    "multi_needle": {
     "currentValue": "False",
     "nuid": "9d18100b-c0c7-4165-b567-3a9ca90a257c",
     "typedWidgetInfo": {
      "autoCreated": false,
      "defaultValue": "False",
      "label": "Multiple Needles?",
      "name": "multi_needle",
      "options": {
       "widgetDisplayType": "Dropdown",
       "choices": [
        "True",
        "False"
       ],
       "fixedDomain": true,
       "multiselect": false
      },
      "parameterDataType": "String"
     },
     "widgetInfo": {
      "widgetType": "dropdown",
      "defaultValue": "False",
      "label": "Multiple Needles?",
      "name": "multi_needle",
      "options": {
       "widgetType": "dropdown",
       "autoCreated": null,
       "choices": [
        "True",
        "False"
       ]
      }
     }
    },
    "provider": {
     "currentValue": "databricks",
     "nuid": "8f51dc02-50c4-4e85-b2eb-263945c0d2fe",
     "typedWidgetInfo": {
      "autoCreated": false,
      "defaultValue": "databricks",
      "label": "Provider",
      "name": "provider",
      "options": {
       "widgetDisplayType": "Dropdown",
       "choices": [
        "databricks",
        "openai",
        "anthropic"
       ],
       "fixedDomain": true,
       "multiselect": false
      },
      "parameterDataType": "String"
     },
     "widgetInfo": {
      "widgetType": "dropdown",
      "defaultValue": "databricks",
      "label": "Provider",
      "name": "provider",
      "options": {
       "widgetType": "dropdown",
       "autoCreated": null,
       "choices": [
        "databricks",
        "openai",
        "anthropic"
       ]
      }
     }
    },
    "results_dir": {
     "currentValue": "/Volumes/main/niah_amine_elhelou/results_json/results_dbrx_32K",
     "nuid": "fbf2b939-6b3d-4969-9eee-c314cde4ef55",
     "typedWidgetInfo": {
      "autoCreated": false,
      "defaultValue": "/Volumes/main/niah_amine_elhelou/results_json/results_dbrx_32K",
      "label": "Folder to store json results",
      "name": "results_dir",
      "options": {
       "widgetDisplayType": "Text",
       "validationRegex": null
      },
      "parameterDataType": "String"
     },
     "widgetInfo": {
      "widgetType": "text",
      "defaultValue": "/Volumes/main/niah_amine_elhelou/results_json/results_dbrx_32K",
      "label": "Folder to store json results",
      "name": "results_dir",
      "options": {
       "widgetType": "text",
       "autoCreated": null,
       "validationRegex": null
      }
     }
    },
    "schema": {
     "currentValue": "niah_amine_elhelou",
     "nuid": "6208b184-038c-4355-a953-aac123da29fb",
     "typedWidgetInfo": {
      "autoCreated": false,
      "defaultValue": "niah_amine_elhelou",
      "label": "Schema to use for storing results/tables",
      "name": "schema",
      "options": {
       "widgetDisplayType": "Text",
       "validationRegex": null
      },
      "parameterDataType": "String"
     },
     "widgetInfo": {
      "widgetType": "text",
      "defaultValue": "niah_amine_elhelou",
      "label": "Schema to use for storing results/tables",
      "name": "schema",
      "options": {
       "widgetType": "text",
       "autoCreated": null,
       "validationRegex": null
      }
     }
    }
   }
  },
  "kernelspec": {
   "display_name": ".venv",
   "language": "python",
   "name": "python3"
  },
  "language_info": {
   "codemirror_mode": {
    "name": "ipython",
    "version": 3
   },
   "file_extension": ".py",
   "mimetype": "text/x-python",
   "name": "python",
   "nbconvert_exporter": "python",
   "pygments_lexer": "ipython3",
   "version": "3.11.3"
  }
 },
 "nbformat": 4,
 "nbformat_minor": 0
}
